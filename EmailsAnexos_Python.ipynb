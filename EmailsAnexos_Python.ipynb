{
 "cells": [
  {
   "cell_type": "code",
   "execution_count": 5,
   "id": "ce6d0276",
   "metadata": {},
   "outputs": [
    {
     "ename": "ImportError",
     "evalue": "cannot import name 'Mailbox' from 'imap_tools' (C:\\Users\\danic\\anaconda3\\lib\\site-packages\\imap_tools\\__init__.py)",
     "output_type": "error",
     "traceback": [
      "\u001b[1;31m---------------------------------------------------------------------------\u001b[0m",
      "\u001b[1;31mImportError\u001b[0m                               Traceback (most recent call last)",
      "\u001b[1;32m<ipython-input-5-c6d0159a3302>\u001b[0m in \u001b[0;36m<module>\u001b[1;34m\u001b[0m\n\u001b[1;32m----> 1\u001b[1;33m \u001b[1;32mfrom\u001b[0m \u001b[0mimap_tools\u001b[0m \u001b[1;32mimport\u001b[0m \u001b[0mMailbox\u001b[0m\u001b[1;33m,\u001b[0m \u001b[0mAND\u001b[0m\u001b[1;33m\u001b[0m\u001b[1;33m\u001b[0m\u001b[0m\n\u001b[0m\u001b[0;32m      2\u001b[0m \u001b[1;32mfrom\u001b[0m \u001b[0msenha_email\u001b[0m \u001b[1;32mimport\u001b[0m \u001b[0mminha_senha\u001b[0m\u001b[1;33m\u001b[0m\u001b[1;33m\u001b[0m\u001b[0m\n\u001b[0;32m      3\u001b[0m \u001b[1;33m\u001b[0m\u001b[0m\n\u001b[0;32m      4\u001b[0m \u001b[0musuario\u001b[0m \u001b[1;33m=\u001b[0m \u001b[1;34m\"danichiku@gmail.com\"\u001b[0m\u001b[1;33m\u001b[0m\u001b[1;33m\u001b[0m\u001b[0m\n\u001b[0;32m      5\u001b[0m \u001b[0msenha\u001b[0m \u001b[1;33m=\u001b[0m \u001b[0mminha_senha\u001b[0m\u001b[1;33m\u001b[0m\u001b[1;33m\u001b[0m\u001b[0m\n",
      "\u001b[1;31mImportError\u001b[0m: cannot import name 'Mailbox' from 'imap_tools' (C:\\Users\\danic\\anaconda3\\lib\\site-packages\\imap_tools\\__init__.py)"
     ]
    }
   ],
   "source": [
    "from imap_tools import Mailbox, AND\n",
    "from senha_email import minha_senha\n",
    "\n",
    "usuario = \"danichiku@gmail.com\"\n",
    "senha = minha_senha\n",
    "\n",
    "\n",
    "meu_email = MailBox(\"imap.gmail.com\").login(usuario, senha)\n"
   ]
  },
  {
   "cell_type": "code",
   "execution_count": null,
   "id": "2f60568a",
   "metadata": {},
   "outputs": [],
   "source": [
    "# pegar e-mails que foram enviados por um remetente específico\n",
    "\n",
    "lista_emails = meu_email.fetch(AND(from_=\"danichiku@gmail.com\", to=\"raissamoreira28@gmail.com\")) \n",
    "for email in lista_emails:\n",
    "    print(email.subject)\n",
    "    print(email.text)"
   ]
  },
  {
   "cell_type": "code",
   "execution_count": null,
   "id": "a5845c16",
   "metadata": {},
   "outputs": [],
   "source": [
    "# pegar emails com um anexo específico\n",
    "lista_emails = meu_email.fetch(AND(from_=\"danichiku@gmail.com\"))\n",
    "for email in lista_emails:\n",
    "    if len(email.attachments) > 0:\n",
    "        for anexo in email.attachments:\n",
    "            if \"Relatório_vendas\" in anexo.filename:\n",
    "                print(anexo.content_type)\n",
    "                print(anexo.payload)\n",
    "                with open(\"Relatório.xlsx\", 'wb') as arquivo_excel:\n",
    "                    arquivo_excel.write(anexo.payload)"
   ]
  }
 ],
 "metadata": {
  "kernelspec": {
   "display_name": "Python 3",
   "language": "python",
   "name": "python3"
  },
  "language_info": {
   "codemirror_mode": {
    "name": "ipython",
    "version": 3
   },
   "file_extension": ".py",
   "mimetype": "text/x-python",
   "name": "python",
   "nbconvert_exporter": "python",
   "pygments_lexer": "ipython3",
   "version": "3.8.8"
  }
 },
 "nbformat": 4,
 "nbformat_minor": 5
}
